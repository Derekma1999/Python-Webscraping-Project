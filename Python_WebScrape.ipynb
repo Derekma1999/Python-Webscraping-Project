{
  "nbformat": 4,
  "nbformat_minor": 0,
  "metadata": {
    "colab": {
      "provenance": [],
      "authorship_tag": "ABX9TyNLUIY/E0RRxpmG9kiAmyCv",
      "include_colab_link": true
    },
    "kernelspec": {
      "name": "python3",
      "display_name": "Python 3"
    },
    "language_info": {
      "name": "python"
    }
  },
  "cells": [
    {
      "cell_type": "markdown",
      "metadata": {
        "id": "view-in-github",
        "colab_type": "text"
      },
      "source": [
        "<a href=\"https://colab.research.google.com/github/Derekma1999/Python-Webscraping-Project/blob/main/Python_WebScrape.ipynb\" target=\"_parent\"><img src=\"https://colab.research.google.com/assets/colab-badge.svg\" alt=\"Open In Colab\"/></a>"
      ]
    },
    {
      "cell_type": "code",
      "source": [
        "import requests\n",
        "import numpy as np\n",
        "import pandas\n",
        "import html5lib\n",
        "from bs4 import BeautifulSoup"
      ],
      "metadata": {
        "id": "WlWDSb2a2KPA"
      },
      "execution_count": null,
      "outputs": []
    },
    {
      "cell_type": "code",
      "source": [
        "URL = \"www\"\n",
        "page = requests.get(URL)\n",
        "soup = BeautifulSoup(page.text, 'html')\n",
        "table = soup.find_all('table')[1]\n",
        "pandas.set_option('display.max_rows', None)\n",
        "df = pandas.read_html(table.prettify(), header=0, flavor='bs4')[0]\n",
        "df.head(100)\n",
        "\n",
        "#print (table)\n",
        "#print (soup)\n",
        "\n"
      ],
      "metadata": {
        "id": "BiQp9NzT2NL0"
      },
      "execution_count": null,
      "outputs": []
    },
    {
      "cell_type": "code",
      "source": [
        "URL = \"www\"\n",
        "page = requests.get(URL)\n",
        "soup = BeautifulSoup(page.text, 'html')\n",
        "titles = soup.find_all('span') [3]\n",
        "table = soup.find_all('table')[1]\n",
        "\n",
        "\n",
        "\n",
        "#df = pandas.set_option('display.max_rows', None)\n",
        "#df = pandas.read_html(title.prettify(), header=0, flavor='bs4')\n",
        "df = pandas.read_html(table.prettify(), header=0, flavor='bs4')[0]\n",
        "\n",
        "#df = df.iloc[: , 5:8]\n",
        "df.insert(5, \"Name\", titles.string, True)\n",
        "df.columns = [\"Runners/Laps\", \"Time (Time of Day)\", \"Leg Time\", \"Pos (C/Pos)\", \"Pace\", \"Name\"]\n",
        "df.head(50)\n",
        "\n",
        "df.to_csv('data7.csv')\n",
        "!cp data7.csv \"drive/My Drive/\"\n",
        "\n",
        "\n",
        "\n"
      ],
      "metadata": {
        "id": "tm7A9dBBvAhL"
      },
      "execution_count": null,
      "outputs": []
    },
    {
      "cell_type": "code",
      "source": [
        "URL = \"www\"\n",
        "page = requests.get(URL)\n",
        "soup = BeautifulSoup(page.text, 'html')\n",
        "table = soup.find_all('table')[1]\n",
        "df = pandas.set_option('display.max_rows', None)\n",
        "df = pandas.read_html(table.prettify(), header=0, flavor='bs4')[0]\n",
        "df=df.drop(['Fav', \"Name.1\", 'Time.1', \"Cat Pos.1\"], axis=1)\n",
        "#df = df.iloc[: , 5:8]\n",
        "\n",
        "#df.columns = ['Date', 'Time', 'Away', 'Home', 'Network', 'Network', 'Network', 'Network', 'Network', 'Network', 'Network', 'Network', 'Network', 'Network']\n",
        "df.head(50)\n",
        "\n",
        "\n",
        "#print (table)\n",
        "#print (soup)\n",
        "\n",
        "#from google.colab import drive\n",
        "#drive.mount('drive')\n",
        "#df.to_csv('data.csv')\n",
        "#!cp data.csv \"drive/My Drive/\"\n"
      ],
      "metadata": {
        "id": "9usukKFwzIOE"
      },
      "execution_count": null,
      "outputs": []
    }
  ]
}